{
 "cells": [
  {
   "cell_type": "markdown",
   "metadata": {},
   "source": [
    "# Generative Adversarial Network\n",
    "\n",
    "In this notebook, we'll be building a generative adversarial network (GAN) trained on the MNIST dataset. From this, we'll be able to generate new handwritten digits!\n",
    "\n",
    "GANs were [first reported on](https://arxiv.org/abs/1406.2661) in 2014 from Ian Goodfellow and others in Yoshua Bengio's lab. Since then, GANs have exploded in popularity. Here are a few examples to check out:\n",
    "\n",
    "* [Pix2Pix](https://affinelayer.com/pixsrv/) \n",
    "* [CycleGAN & Pix2Pix in PyTorch, Jun-Yan Zhu](https://github.com/junyanz/pytorch-CycleGAN-and-pix2pix)\n",
    "* [A list of generative models](https://github.com/wiseodd/generative-models)\n",
    "\n",
    "The idea behind GANs is that you have two networks, a generator $G$ and a discriminator $D$, competing against each other. The generator makes \"fake\" data to pass to the discriminator. The discriminator also sees real training data and predicts if the data it's received is real or fake. \n",
    "> * The generator is trained to fool the discriminator, it wants to output data that looks _as close as possible_ to real, training data. \n",
    "* The discriminator is a classifier that is trained to figure out which data is real and which is fake. \n",
    "\n",
    "What ends up happening is that the generator learns to make data that is indistinguishable from real data to the discriminator.\n",
    "\n",
    "<img src='assets/gan_pipeline.png' width=70% />\n",
    "\n",
    "The general structure of a GAN is shown in the diagram above, using MNIST images as data. The latent sample is a random vector that the generator uses to construct its fake images. This is often called a **latent vector** and that vector space is called **latent space**. As the generator trains, it figures out how to map latent vectors to recognizable images that can fool the discriminator.\n",
    "\n",
    "If you're interested in generating only new images, you can throw out the discriminator after training. In this notebook, I'll show you how to define and train these adversarial networks in PyTorch and generate new images!"
   ]
  },
  {
   "cell_type": "code",
   "execution_count": 1,
   "metadata": {},
   "outputs": [],
   "source": [
    "%matplotlib inline\n",
    "\n",
    "import numpy as np\n",
    "import torch\n",
    "import matplotlib.pyplot as plt"
   ]
  },
  {
   "cell_type": "code",
   "execution_count": 2,
   "metadata": {},
   "outputs": [
    {
     "name": "stderr",
     "output_type": "stream",
     "text": [
      "0.3%"
     ]
    },
    {
     "name": "stdout",
     "output_type": "stream",
     "text": [
      "Downloading http://yann.lecun.com/exdb/mnist/train-images-idx3-ubyte.gz\n",
      "Downloading http://yann.lecun.com/exdb/mnist/train-images-idx3-ubyte.gz to data\\MNIST\\raw\\train-images-idx3-ubyte.gz\n"
     ]
    },
    {
     "name": "stderr",
     "output_type": "stream",
     "text": [
      "100.0%\n"
     ]
    },
    {
     "name": "stdout",
     "output_type": "stream",
     "text": [
      "Extracting data\\MNIST\\raw\\train-images-idx3-ubyte.gz to data\\MNIST\\raw\n"
     ]
    },
    {
     "name": "stderr",
     "output_type": "stream",
     "text": [
      "102.8%"
     ]
    },
    {
     "name": "stdout",
     "output_type": "stream",
     "text": [
      "\n",
      "Downloading http://yann.lecun.com/exdb/mnist/train-labels-idx1-ubyte.gz\n",
      "Downloading http://yann.lecun.com/exdb/mnist/train-labels-idx1-ubyte.gz to data\\MNIST\\raw\\train-labels-idx1-ubyte.gz\n",
      "Extracting data\\MNIST\\raw\\train-labels-idx1-ubyte.gz to data\\MNIST\\raw\n",
      "\n",
      "Downloading http://yann.lecun.com/exdb/mnist/t10k-images-idx3-ubyte.gz\n"
     ]
    },
    {
     "name": "stderr",
     "output_type": "stream",
     "text": [
      "\n",
      "3.4%"
     ]
    },
    {
     "name": "stdout",
     "output_type": "stream",
     "text": [
      "Downloading http://yann.lecun.com/exdb/mnist/t10k-images-idx3-ubyte.gz to data\\MNIST\\raw\\t10k-images-idx3-ubyte.gz\n"
     ]
    },
    {
     "name": "stderr",
     "output_type": "stream",
     "text": [
      "100.0%\n"
     ]
    },
    {
     "name": "stdout",
     "output_type": "stream",
     "text": [
      "Extracting data\\MNIST\\raw\\t10k-images-idx3-ubyte.gz to data\\MNIST\\raw\n",
      "\n",
      "Downloading http://yann.lecun.com/exdb/mnist/t10k-labels-idx1-ubyte.gz\n",
      "Downloading http://yann.lecun.com/exdb/mnist/t10k-labels-idx1-ubyte.gz to data\\MNIST\\raw\\t10k-labels-idx1-ubyte.gz\n"
     ]
    },
    {
     "name": "stderr",
     "output_type": "stream",
     "text": [
      "112.7%"
     ]
    },
    {
     "name": "stdout",
     "output_type": "stream",
     "text": [
      "Extracting data\\MNIST\\raw\\t10k-labels-idx1-ubyte.gz to data\\MNIST\\raw\n",
      "\n"
     ]
    },
    {
     "name": "stderr",
     "output_type": "stream",
     "text": [
      "\n"
     ]
    }
   ],
   "source": [
    "from torchvision import datasets\n",
    "import torchvision.transforms as transforms\n",
    "\n",
    "# number of subprocesses to use for data loading\n",
    "num_workers = 0\n",
    "# how many samples per batch to load\n",
    "batch_size = 64\n",
    "\n",
    "# convert data to torch.FloatTensor\n",
    "transform = transforms.ToTensor()\n",
    "\n",
    "# get the training datasets\n",
    "train_data = datasets.MNIST(root='data', train=True,\n",
    "                                   download=True, transform=transform)\n",
    "\n",
    "# prepare data loader\n",
    "train_loader = torch.utils.data.DataLoader(train_data, batch_size=batch_size,\n",
    "                                           num_workers=num_workers)"
   ]
  },
  {
   "cell_type": "markdown",
   "metadata": {},
   "source": [
    "### Visualize the data"
   ]
  },
  {
   "cell_type": "code",
   "execution_count": 3,
   "metadata": {},
   "outputs": [
    {
     "data": {
      "text/plain": [
       "<matplotlib.image.AxesImage at 0x1a72bcdaf60>"
      ]
     },
     "execution_count": 3,
     "metadata": {},
     "output_type": "execute_result"
    },
    {
     "data": {
      "image/png": "[encoded data removed]",
      "text/plain": [
       "<Figure size 216x216 with 1 Axes>"
      ]
     },
     "metadata": {
      "needs_background": "light"
     },
     "output_type": "display_data"
    }
   ],
   "source": [
    "# obtain one batch of training images\n",
    "dataiter = iter(train_loader)\n",
    "images, labels = dataiter.next()\n",
    "images = images.numpy()\n",
    "\n",
    "# get one image from the batch\n",
    "img = np.squeeze(images[0])\n",
    "\n",
    "fig = plt.figure(figsize = (3,3)) \n",
    "ax = fig.add_subplot(111)\n",
    "ax.imshow(img, cmap='gray')"
   ]
  },
  {
   "cell_type": "markdown",
   "metadata": {},
   "source": [
    "---\n",
    "# Define the Model\n",
    "\n",
    "A GAN is comprised of two adversarial networks, a discriminator and a generator."
   ]
  },
  {
   "cell_type": "markdown",
   "metadata": {},
   "source": [
    "## Discriminator\n",
    "\n",
    "The discriminator network is going to be a pretty typical linear classifier. To make this network a universal function approximator, we'll need at least one hidden layer, and these hidden layers should have one key attribute:\n",
    "> All hidden layers will have a [Leaky ReLu](https://pytorch.org/docs/stable/nn.html#torch.nn.LeakyReLU) activation function applied to their outputs.\n",
    "\n",
    "<img src='assets/gan_network.png' width=70% />\n",
    "\n",
    "#### Leaky ReLu\n",
    "\n",
    "We should use a leaky ReLU to allow gradients to flow backwards through the layer unimpeded. A leaky ReLU is like a normal ReLU, except that there is a small non-zero output for negative input values.\n",
    "\n",
    "<img src='assets/leaky_relu.png' width=40% />\n",
    "\n",
    "#### Sigmoid Output\n",
    "\n",
    "We'll also take the approach of using a more numerically stable loss function on the outputs. Recall that we want the discriminator to output a value 0-1 indicating whether an image is _real or fake_. \n",
    "> We will ultimately use [BCEWithLogitsLoss](https://pytorch.org/docs/stable/nn.html#bcewithlogitsloss), which combines a `sigmoid` activation function **and** and binary cross entropy loss in one function. \n",
    "\n",
    "So, our final output layer should not have any activation function applied to it."
   ]
  },
  {
   "cell_type": "code",
   "execution_count": 4,
   "metadata": {},
   "outputs": [],
   "source": [
    "import torch.nn as nn\n",
    "import torch.nn.functional as F\n",
    "\n",
    "class Discriminator(nn.Module):\n",
    "\n",
    "    def __init__(self, input_size, hidden_dim, output_size):\n",
    "        super(Discriminator, self).__init__()\n",
    "        \n",
    "        # define hidden linear layers\n",
    "        self.fc1 = nn.Linear(input_size, hidden_dim*4)\n",
    "        self.fc2 = nn.Linear(hidden_dim*4, hidden_dim*2)\n",
    "        self.fc3 = nn.Linear(hidden_dim*2, hidden_dim)\n",
    "        \n",
    "        # final fully-connected layer\n",
    "        self.fc4 = nn.Linear(hidden_dim, output_size)\n",
    "        \n",
    "        # dropout layer \n",
    "        self.dropout = nn.Dropout(0.3)\n",
    "        \n",
    "        \n",
    "    def forward(self, x):\n",
    "        # flatten image\n",
    "        x = x.view(-1, 28*28)\n",
    "        # all hidden layers\n",
    "        x = F.leaky_relu(self.fc1(x), 0.2) # (input, negative_slope=0.2)\n",
    "        x = self.dropout(x)\n",
    "        x = F.leaky_relu(self.fc2(x), 0.2)\n",
    "        x = self.dropout(x)\n",
    "        x = F.leaky_relu(self.fc3(x), 0.2)\n",
    "        x = self.dropout(x)\n",
    "        # final layer\n",
    "        out = self.fc4(x)\n",
    "\n",
    "        return out\n"
   ]
  },
  {
   "cell_type": "markdown",
   "metadata": {},
   "source": [
    "## Generator\n",
    "\n",
    "The generator network will be almost exactly the same as the discriminator network, except that we're applying a [tanh activation function](https://pytorch.org/docs/stable/nn.html#tanh) to our output layer.\n",
    "\n",
    "#### tanh Output\n",
    "The generator has been found to perform the best with $tanh$ for the generator output, which scales the output to be between -1 and 1, instead of 0 and 1. \n",
    "\n",
    "<img src='assets/tanh_fn.png' width=40% />\n",
    "\n",
    "Recall that we also want these outputs to be comparable to the *real* input pixel values, which are read in as normalized values between 0 and 1. \n",
    "> So, we'll also have to **scale our real input images to have pixel values between -1 and 1** when we train the discriminator. \n",
    "\n",
    "I'll do this in the training loop, later on."
   ]
  },
  {
   "cell_type": "code",
   "execution_count": 5,
   "metadata": {},
   "outputs": [],
   "source": [
    "class Generator(nn.Module):\n",
    "\n",
    "    def __init__(self, input_size, hidden_dim, output_size):\n",
    "        super(Generator, self).__init__()\n",
    "        \n",
    "        # define hidden linear layers\n",
    "        self.fc1 = nn.Linear(input_size, hidden_dim)\n",
    "        self.fc2 = nn.Linear(hidden_dim, hidden_dim*2)\n",
    "        self.fc3 = nn.Linear(hidden_dim*2, hidden_dim*4)\n",
    "        \n",
    "        # final fully-connected layer\n",
    "        self.fc4 = nn.Linear(hidden_dim*4, output_size)\n",
    "        \n",
    "        # dropout layer \n",
    "        self.dropout = nn.Dropout(0.3)\n",
    "        \n",
    "\n",
    "    def forward(self, x):\n",
    "        # all hidden layers\n",
    "        x = F.leaky_relu(self.fc1(x), 0.2) # (input, negative_slope=0.2)\n",
    "        x = self.dropout(x)\n",
    "        x = F.leaky_relu(self.fc2(x), 0.2)\n",
    "        x = self.dropout(x)\n",
    "        x = F.leaky_relu(self.fc3(x), 0.2)\n",
    "        x = self.dropout(x)\n",
    "        # final layer with tanh applied\n",
    "        out = F.tanh(self.fc4(x))\n",
    "\n",
    "        return out"
   ]
  },
  {
   "cell_type": "markdown",
   "metadata": {},
   "source": [
    "## Model hyperparameters"
   ]
  },
  {
   "cell_type": "code",
   "execution_count": 6,
   "metadata": {},
   "outputs": [],
   "source": [
    "# Discriminator hyperparams\n",
    "\n",
    "# Size of input image to discriminator (28*28)\n",
    "input_size = 784\n",
    "# Size of discriminator output (real or fake)\n",
    "d_output_size = 1\n",
    "# Size of last hidden layer in the discriminator\n",
    "d_hidden_size = 32\n",
    "\n",
    "# Generator hyperparams\n",
    "\n",
    "# Size of latent vector to give to generator\n",
    "z_size = 100\n",
    "# Size of discriminator output (generated image)\n",
    "g_output_size = 784\n",
    "# Size of first hidden layer in the generator\n",
    "g_hidden_size = 32"
   ]
  },
  {
   "cell_type": "markdown",
   "metadata": {},
   "source": [
    "## Build complete network\n",
    "\n",
    "Now we're instantiating the discriminator and generator from the classes defined above. Make sure you've passed in the correct input arguments."
   ]
  },
  {
   "cell_type": "code",
   "execution_count": 7,
   "metadata": {},
   "outputs": [
    {
     "name": "stdout",
     "output_type": "stream",
     "text": [
      "Discriminator(\n",
      "  (fc1): Linear(in_features=784, out_features=128, bias=True)\n",
      "  (fc2): Linear(in_features=128, out_features=64, bias=True)\n",
      "  (fc3): Linear(in_features=64, out_features=32, bias=True)\n",
      "  (fc4): Linear(in_features=32, out_features=1, bias=True)\n",
      "  (dropout): Dropout(p=0.3, inplace=False)\n",
      ")\n",
      "\n",
      "Generator(\n",
      "  (fc1): Linear(in_features=100, out_features=32, bias=True)\n",
      "  (fc2): Linear(in_features=32, out_features=64, bias=True)\n",
      "  (fc3): Linear(in_features=64, out_features=128, bias=True)\n",
      "  (fc4): Linear(in_features=128, out_features=784, bias=True)\n",
      "  (dropout): Dropout(p=0.3, inplace=False)\n",
      ")\n"
     ]
    }
   ],
   "source": [
    "# instantiate discriminator and generator\n",
    "D = Discriminator(input_size, d_hidden_size, d_output_size)\n",
    "G = Generator(z_size, g_hidden_size, g_output_size)\n",
    "\n",
    "# check that they are as you expect\n",
    "print(D)\n",
    "print()\n",
    "print(G)"
   ]
  },
  {
   "cell_type": "markdown",
   "metadata": {},
   "source": [
    "---\n",
    "## Discriminator and Generator Losses\n",
    "\n",
    "Now we need to calculate the losses. \n",
    "\n",
    "### Discriminator Losses\n",
    "\n",
    "> * For the discriminator, the total loss is the sum of the losses for real and fake images, `d_loss = d_real_loss + d_fake_loss`. \n",
    "* Remember that we want the discriminator to output 1 for real images and 0 for fake images, so we need to set up the losses to reflect that.\n",
    "\n",
    "<img src='assets/gan_pipeline.png' width=70% />\n",
    "\n",
    "The losses will by binary cross entropy loss with logits, which we can get with [BCEWithLogitsLoss](https://pytorch.org/docs/stable/nn.html#bcewithlogitsloss). This combines a `sigmoid` activation function **and** and binary cross entropy loss in one function.\n",
    "\n",
    "For the real images, we want `D(real_images) = 1`. That is, we want the discriminator to classify the the real images with a label = 1, indicating that these are real. To help the discriminator generalize better, the labels are **reduced a bit from 1.0 to 0.9**. For this, we'll use the parameter `smooth`; if True, then we should smooth our labels. In PyTorch, this looks like `labels = torch.ones(size) * 0.9`\n",
    "\n",
    "The discriminator loss for the fake data is similar. We want `D(fake_images) = 0`, where the fake images are the _generator output_, `fake_images = G(z)`. \n",
    "\n",
    "### Generator Loss\n",
    "\n",
    "The generator loss will look similar only with flipped labels. The generator's goal is to get `D(fake_images) = 1`. In this case, the labels are **flipped** to represent that the generator is trying to fool the discriminator into thinking that the images it generates (fakes) are real!"
   ]
  },
  {
   "cell_type": "code",
   "execution_count": 8,
   "metadata": {},
   "outputs": [],
   "source": [
    "# Calculate losses\n",
    "def real_loss(D_out, smooth=False):\n",
    "    batch_size = D_out.size(0)\n",
    "    # label smoothing\n",
    "    if smooth:\n",
    "        # smooth, real labels = 0.9\n",
    "        labels = torch.ones(batch_size)*0.9\n",
    "    else:\n",
    "        labels = torch.ones(batch_size) # real labels = 1\n",
    "        \n",
    "    # numerically stable loss\n",
    "    criterion = nn.BCEWithLogitsLoss()\n",
    "    # calculate loss\n",
    "    loss = criterion(D_out.squeeze(), labels)\n",
    "    return loss\n",
    "\n",
    "def fake_loss(D_out):\n",
    "    batch_size = D_out.size(0)\n",
    "    labels = torch.zeros(batch_size) # fake labels = 0\n",
    "    criterion = nn.BCEWithLogitsLoss()\n",
    "    # calculate loss\n",
    "    loss = criterion(D_out.squeeze(), labels)\n",
    "    return loss"
   ]
  },
  {
   "cell_type": "markdown",
   "metadata": {},
   "source": [
    "## Optimizers\n",
    "\n",
    "We want to update the generator and discriminator variables separately. So, we'll define two separate Adam optimizers."
   ]
  },
  {
   "cell_type": "code",
   "execution_count": 9,
   "metadata": {
    "scrolled": true
   },
   "outputs": [],
   "source": [
    "import torch.optim as optim\n",
    "\n",
    "# Optimizers\n",
    "lr = 0.002\n",
    "\n",
    "# Create optimizers for the discriminator and generator\n",
    "d_optimizer = optim.Adam(D.parameters(), lr)\n",
    "g_optimizer = optim.Adam(G.parameters(), lr)"
   ]
  },
  {
   "cell_type": "markdown",
   "metadata": {},
   "source": [
    "---\n",
    "## Training\n",
    "\n",
    "Training will involve alternating between training the discriminator and the generator. We'll use our functions `real_loss` and `fake_loss` to help us calculate the discriminator losses in all of the following cases.\n",
    "\n",
    "### Discriminator training\n",
    "1. Compute the discriminator loss on real, training images        \n",
    "2. Generate fake images\n",
    "3. Compute the discriminator loss on fake, generated images     \n",
    "4. Add up real and fake loss\n",
    "5. Perform backpropagation + an optimization step to update the discriminator's weights\n",
    "\n",
    "### Generator training\n",
    "1. Generate fake images\n",
    "2. Compute the discriminator loss on fake images, using **flipped** labels!\n",
    "3. Perform backpropagation + an optimization step to update the generator's weights\n",
    "\n",
    "#### Saving Samples\n",
    "\n",
    "As we train, we'll also print out some loss statistics and save some generated \"fake\" samples."
   ]
  },
  {
   "cell_type": "code",
   "execution_count": 10,
   "metadata": {
    "scrolled": true
   },
   "outputs": [
    {
     "name": "stderr",
     "output_type": "stream",
     "text": [
      "C:\\Users\\berkdeniz\\anaconda3\\envs\\deep-learning\\lib\\site-packages\\torch\\nn\\functional.py:1795: UserWarning: nn.functional.tanh is deprecated. Use torch.tanh instead.\n",
      "  warnings.warn(\"nn.functional.tanh is deprecated. Use torch.tanh instead.\")\n"
     ]
    },
    {
     "name": "stdout",
     "output_type": "stream",
     "text": [
      "Epoch [    1/  100] | d_loss: 1.4162 | g_loss: 0.6434\n",
      "Epoch [    1/  100] | d_loss: 1.2583 | g_loss: 1.2981\n",
      "Epoch [    1/  100] | d_loss: 1.7748 | g_loss: 0.9066\n",
      "Epoch [    2/  100] | d_loss: 1.3097 | g_loss: 0.7507\n",
      "Epoch [    2/  100] | d_loss: 1.4305 | g_loss: 0.7299\n",
      "Epoch [    2/  100] | d_loss: 1.2343 | g_loss: 0.7904\n",
      "Epoch [    3/  100] | d_loss: 1.0415 | g_loss: 1.2997\n",
      "Epoch [    3/  100] | d_loss: 0.8786 | g_loss: 2.1636\n",
      "Epoch [    3/  100] | d_loss: 0.9094 | g_loss: 1.6995\n",
      "Epoch [    4/  100] | d_loss: 1.1437 | g_loss: 1.1464\n",
      "Epoch [    4/  100] | d_loss: 0.7656 | g_loss: 2.2219\n",
      "Epoch [    4/  100] | d_loss: 0.9613 | g_loss: 2.2859\n",
      "Epoch [    5/  100] | d_loss: 1.1706 | g_loss: 1.5829\n",
      "Epoch [    5/  100] | d_loss: 1.2565 | g_loss: 1.7005\n",
      "Epoch [    5/  100] | d_loss: 1.0186 | g_loss: 1.7212\n",
      "Epoch [    6/  100] | d_loss: 1.0663 | g_loss: 1.2277\n",
      "Epoch [    6/  100] | d_loss: 1.2698 | g_loss: 1.2344\n",
      "Epoch [    6/  100] | d_loss: 1.0943 | g_loss: 1.5194\n",
      "Epoch [    7/  100] | d_loss: 1.1817 | g_loss: 1.4240\n",
      "Epoch [    7/  100] | d_loss: 1.1347 | g_loss: 1.6700\n",
      "Epoch [    7/  100] | d_loss: 1.2717 | g_loss: 1.7809\n",
      "Epoch [    8/  100] | d_loss: 1.1512 | g_loss: 1.3410\n",
      "Epoch [    8/  100] | d_loss: 1.0727 | g_loss: 1.3073\n",
      "Epoch [    8/  100] | d_loss: 1.1932 | g_loss: 1.5970\n",
      "Epoch [    9/  100] | d_loss: 1.0747 | g_loss: 1.4520\n",
      "Epoch [    9/  100] | d_loss: 1.2716 | g_loss: 1.1289\n",
      "Epoch [    9/  100] | d_loss: 1.1248 | g_loss: 1.5218\n",
      "Epoch [   10/  100] | d_loss: 1.3848 | g_loss: 0.8563\n",
      "Epoch [   10/  100] | d_loss: 1.2259 | g_loss: 0.9594\n",
      "Epoch [   10/  100] | d_loss: 1.2958 | g_loss: 0.9970\n",
      "Epoch [   11/  100] | d_loss: 1.6250 | g_loss: 0.9331\n",
      "Epoch [   11/  100] | d_loss: 1.1975 | g_loss: 1.0950\n",
      "Epoch [   11/  100] | d_loss: 1.3052 | g_loss: 1.1216\n",
      "Epoch [   12/  100] | d_loss: 1.4052 | g_loss: 0.9796\n",
      "Epoch [   12/  100] | d_loss: 1.1656 | g_loss: 1.1614\n",
      "Epoch [   12/  100] | d_loss: 1.3564 | g_loss: 1.0845\n",
      "Epoch [   13/  100] | d_loss: 1.2155 | g_loss: 2.0245\n",
      "Epoch [   13/  100] | d_loss: 1.1522 | g_loss: 1.0148\n",
      "Epoch [   13/  100] | d_loss: 1.2515 | g_loss: 1.8617\n",
      "Epoch [   14/  100] | d_loss: 1.1951 | g_loss: 1.3107\n",
      "Epoch [   14/  100] | d_loss: 1.2219 | g_loss: 1.1686\n",
      "Epoch [   14/  100] | d_loss: 1.3186 | g_loss: 1.2693\n",
      "Epoch [   15/  100] | d_loss: 1.1460 | g_loss: 1.2107\n",
      "Epoch [   15/  100] | d_loss: 1.1353 | g_loss: 1.0200\n",
      "Epoch [   15/  100] | d_loss: 1.2260 | g_loss: 1.1449\n",
      "Epoch [   16/  100] | d_loss: 1.3006 | g_loss: 1.0792\n",
      "Epoch [   16/  100] | d_loss: 1.2142 | g_loss: 1.5077\n",
      "Epoch [   16/  100] | d_loss: 1.2690 | g_loss: 1.3659\n",
      "Epoch [   17/  100] | d_loss: 1.1067 | g_loss: 1.3161\n",
      "Epoch [   17/  100] | d_loss: 1.2840 | g_loss: 1.0047\n",
      "Epoch [   17/  100] | d_loss: 1.1736 | g_loss: 2.5083\n",
      "Epoch [   18/  100] | d_loss: 1.2662 | g_loss: 1.4570\n",
      "Epoch [   18/  100] | d_loss: 1.1548 | g_loss: 1.4248\n",
      "Epoch [   18/  100] | d_loss: 1.3754 | g_loss: 1.0781\n",
      "Epoch [   19/  100] | d_loss: 1.2396 | g_loss: 0.9966\n",
      "Epoch [   19/  100] | d_loss: 1.0492 | g_loss: 1.3431\n",
      "Epoch [   19/  100] | d_loss: 1.3552 | g_loss: 1.0228\n",
      "Epoch [   20/  100] | d_loss: 1.3016 | g_loss: 1.6496\n",
      "Epoch [   20/  100] | d_loss: 1.2429 | g_loss: 1.3123\n",
      "Epoch [   20/  100] | d_loss: 1.3189 | g_loss: 1.0191\n",
      "Epoch [   21/  100] | d_loss: 1.2654 | g_loss: 1.0435\n",
      "Epoch [   21/  100] | d_loss: 1.1479 | g_loss: 1.1920\n",
      "Epoch [   21/  100] | d_loss: 1.2928 | g_loss: 0.9702\n",
      "Epoch [   22/  100] | d_loss: 1.3138 | g_loss: 1.5922\n",
      "Epoch [   22/  100] | d_loss: 1.1990 | g_loss: 1.2638\n",
      "Epoch [   22/  100] | d_loss: 1.3667 | g_loss: 1.0891\n",
      "Epoch [   23/  100] | d_loss: 1.2867 | g_loss: 0.9921\n",
      "Epoch [   23/  100] | d_loss: 1.2095 | g_loss: 1.2416\n",
      "Epoch [   23/  100] | d_loss: 1.2777 | g_loss: 1.2098\n",
      "Epoch [   24/  100] | d_loss: 1.2434 | g_loss: 1.0111\n",
      "Epoch [   24/  100] | d_loss: 1.3011 | g_loss: 1.0586\n",
      "Epoch [   24/  100] | d_loss: 1.2751 | g_loss: 1.1762\n",
      "Epoch [   25/  100] | d_loss: 1.3101 | g_loss: 1.3665\n",
      "Epoch [   25/  100] | d_loss: 1.3767 | g_loss: 1.0922\n",
      "Epoch [   25/  100] | d_loss: 1.3396 | g_loss: 2.1723\n",
      "Epoch [   26/  100] | d_loss: 1.3015 | g_loss: 0.8205\n",
      "Epoch [   26/  100] | d_loss: 1.2817 | g_loss: 1.4560\n",
      "Epoch [   26/  100] | d_loss: 1.4418 | g_loss: 0.9528\n",
      "Epoch [   27/  100] | d_loss: 1.2446 | g_loss: 1.1248\n",
      "Epoch [   27/  100] | d_loss: 1.4316 | g_loss: 0.9191\n",
      "Epoch [   27/  100] | d_loss: 1.2076 | g_loss: 1.1482\n",
      "Epoch [   28/  100] | d_loss: 1.4150 | g_loss: 1.1108\n",
      "Epoch [   28/  100] | d_loss: 1.2135 | g_loss: 0.9672\n",
      "Epoch [   28/  100] | d_loss: 1.2772 | g_loss: 0.9797\n",
      "Epoch [   29/  100] | d_loss: 1.1968 | g_loss: 1.7204\n",
      "Epoch [   29/  100] | d_loss: 1.2031 | g_loss: 1.1173\n",
      "Epoch [   29/  100] | d_loss: 1.3835 | g_loss: 0.9595\n",
      "Epoch [   30/  100] | d_loss: 1.3016 | g_loss: 0.9364\n",
      "Epoch [   30/  100] | d_loss: 1.1935 | g_loss: 1.2697\n",
      "Epoch [   30/  100] | d_loss: 1.3413 | g_loss: 1.0882\n",
      "Epoch [   31/  100] | d_loss: 1.2797 | g_loss: 0.9250\n",
      "Epoch [   31/  100] | d_loss: 1.2356 | g_loss: 1.1579\n",
      "Epoch [   31/  100] | d_loss: 1.2543 | g_loss: 1.2887\n",
      "Epoch [   32/  100] | d_loss: 1.2829 | g_loss: 0.9758\n",
      "Epoch [   32/  100] | d_loss: 1.2464 | g_loss: 1.1546\n",
      "Epoch [   32/  100] | d_loss: 1.3133 | g_loss: 0.8737\n",
      "Epoch [   33/  100] | d_loss: 1.3293 | g_loss: 1.3942\n",
      "Epoch [   33/  100] | d_loss: 1.2706 | g_loss: 1.0485\n",
      "Epoch [   33/  100] | d_loss: 1.2237 | g_loss: 0.9800\n",
      "Epoch [   34/  100] | d_loss: 1.2627 | g_loss: 0.9233\n",
      "Epoch [   34/  100] | d_loss: 1.2614 | g_loss: 0.9353\n",
      "Epoch [   34/  100] | d_loss: 1.1865 | g_loss: 1.3541\n",
      "Epoch [   35/  100] | d_loss: 1.2701 | g_loss: 1.3556\n",
      "Epoch [   35/  100] | d_loss: 1.2269 | g_loss: 0.9679\n",
      "Epoch [   35/  100] | d_loss: 1.3609 | g_loss: 0.9823\n",
      "Epoch [   36/  100] | d_loss: 1.2140 | g_loss: 1.0957\n",
      "Epoch [   36/  100] | d_loss: 1.4551 | g_loss: 1.0643\n",
      "Epoch [   36/  100] | d_loss: 1.3744 | g_loss: 1.2356\n",
      "Epoch [   37/  100] | d_loss: 1.1919 | g_loss: 1.5787\n",
      "Epoch [   37/  100] | d_loss: 1.2504 | g_loss: 1.1719\n",
      "Epoch [   37/  100] | d_loss: 1.2784 | g_loss: 1.0679\n",
      "Epoch [   38/  100] | d_loss: 1.2631 | g_loss: 1.0148\n",
      "Epoch [   38/  100] | d_loss: 1.1277 | g_loss: 0.9922\n",
      "Epoch [   38/  100] | d_loss: 1.3525 | g_loss: 1.0680\n",
      "Epoch [   39/  100] | d_loss: 1.2319 | g_loss: 1.4549\n",
      "Epoch [   39/  100] | d_loss: 1.2079 | g_loss: 1.4798\n",
      "Epoch [   39/  100] | d_loss: 1.3768 | g_loss: 0.8984\n",
      "Epoch [   40/  100] | d_loss: 1.2254 | g_loss: 1.1397\n",
      "Epoch [   40/  100] | d_loss: 1.2328 | g_loss: 1.0280\n",
      "Epoch [   40/  100] | d_loss: 1.3159 | g_loss: 1.1914\n",
      "Epoch [   41/  100] | d_loss: 1.2865 | g_loss: 0.9777\n",
      "Epoch [   41/  100] | d_loss: 1.2616 | g_loss: 1.0084\n",
      "Epoch [   41/  100] | d_loss: 1.3918 | g_loss: 0.9588\n",
      "Epoch [   42/  100] | d_loss: 1.1971 | g_loss: 1.2354\n",
      "Epoch [   42/  100] | d_loss: 1.2625 | g_loss: 0.9408\n",
      "Epoch [   42/  100] | d_loss: 1.3883 | g_loss: 1.0903\n",
      "Epoch [   43/  100] | d_loss: 1.2105 | g_loss: 0.9615\n",
      "Epoch [   43/  100] | d_loss: 1.2378 | g_loss: 1.0555\n",
      "Epoch [   43/  100] | d_loss: 1.3282 | g_loss: 0.9340\n",
      "Epoch [   44/  100] | d_loss: 1.3327 | g_loss: 0.8762\n",
      "Epoch [   44/  100] | d_loss: 1.2035 | g_loss: 1.2181\n",
      "Epoch [   44/  100] | d_loss: 1.3905 | g_loss: 1.1747\n",
      "Epoch [   45/  100] | d_loss: 1.3368 | g_loss: 1.1023\n",
      "Epoch [   45/  100] | d_loss: 1.2448 | g_loss: 0.8631\n",
      "Epoch [   45/  100] | d_loss: 1.2727 | g_loss: 1.1881\n",
      "Epoch [   46/  100] | d_loss: 1.4008 | g_loss: 1.2519\n",
      "Epoch [   46/  100] | d_loss: 1.1206 | g_loss: 1.4866\n",
      "Epoch [   46/  100] | d_loss: 1.3093 | g_loss: 1.0987\n",
      "Epoch [   47/  100] | d_loss: 1.3085 | g_loss: 0.8653\n",
      "Epoch [   47/  100] | d_loss: 1.2923 | g_loss: 1.0864\n",
      "Epoch [   47/  100] | d_loss: 1.2604 | g_loss: 1.1258\n",
      "Epoch [   48/  100] | d_loss: 1.2358 | g_loss: 1.2704\n",
      "Epoch [   48/  100] | d_loss: 1.3684 | g_loss: 1.1002\n",
      "Epoch [   48/  100] | d_loss: 1.4723 | g_loss: 1.0883\n",
      "Epoch [   49/  100] | d_loss: 1.3871 | g_loss: 1.0800\n",
      "Epoch [   49/  100] | d_loss: 1.3463 | g_loss: 0.9216\n",
      "Epoch [   49/  100] | d_loss: 1.3521 | g_loss: 1.3074\n",
      "Epoch [   50/  100] | d_loss: 1.2574 | g_loss: 1.2039\n",
      "Epoch [   50/  100] | d_loss: 1.3058 | g_loss: 0.9320\n",
      "Epoch [   50/  100] | d_loss: 1.2565 | g_loss: 0.9074\n",
      "Epoch [   51/  100] | d_loss: 1.2143 | g_loss: 0.9212\n",
      "Epoch [   51/  100] | d_loss: 1.2218 | g_loss: 0.7898\n"
     ]
    },
    {
     "name": "stdout",
     "output_type": "stream",
     "text": [
      "Epoch [   51/  100] | d_loss: 1.2773 | g_loss: 1.0630\n",
      "Epoch [   52/  100] | d_loss: 1.3654 | g_loss: 0.7649\n",
      "Epoch [   52/  100] | d_loss: 1.2746 | g_loss: 1.0661\n",
      "Epoch [   52/  100] | d_loss: 1.2677 | g_loss: 1.1370\n",
      "Epoch [   53/  100] | d_loss: 1.2784 | g_loss: 1.0794\n",
      "Epoch [   53/  100] | d_loss: 1.2951 | g_loss: 1.1233\n",
      "Epoch [   53/  100] | d_loss: 1.3155 | g_loss: 1.1067\n",
      "Epoch [   54/  100] | d_loss: 1.2468 | g_loss: 0.8487\n",
      "Epoch [   54/  100] | d_loss: 1.2619 | g_loss: 0.9527\n",
      "Epoch [   54/  100] | d_loss: 1.4361 | g_loss: 1.2550\n",
      "Epoch [   55/  100] | d_loss: 1.3420 | g_loss: 0.8835\n",
      "Epoch [   55/  100] | d_loss: 1.2603 | g_loss: 0.9838\n",
      "Epoch [   55/  100] | d_loss: 1.3925 | g_loss: 0.9138\n",
      "Epoch [   56/  100] | d_loss: 1.2576 | g_loss: 1.2946\n",
      "Epoch [   56/  100] | d_loss: 1.2890 | g_loss: 1.0990\n",
      "Epoch [   56/  100] | d_loss: 1.4069 | g_loss: 1.0986\n",
      "Epoch [   57/  100] | d_loss: 1.3539 | g_loss: 0.8362\n",
      "Epoch [   57/  100] | d_loss: 1.2807 | g_loss: 1.4864\n",
      "Epoch [   57/  100] | d_loss: 1.2999 | g_loss: 1.6015\n",
      "Epoch [   58/  100] | d_loss: 1.3565 | g_loss: 0.8975\n",
      "Epoch [   58/  100] | d_loss: 1.2913 | g_loss: 1.0027\n",
      "Epoch [   58/  100] | d_loss: 1.3022 | g_loss: 1.0258\n",
      "Epoch [   59/  100] | d_loss: 1.4014 | g_loss: 1.2082\n",
      "Epoch [   59/  100] | d_loss: 1.1313 | g_loss: 1.2804\n",
      "Epoch [   59/  100] | d_loss: 1.3262 | g_loss: 0.9916\n",
      "Epoch [   60/  100] | d_loss: 1.2498 | g_loss: 1.0797\n",
      "Epoch [   60/  100] | d_loss: 1.3145 | g_loss: 1.0476\n",
      "Epoch [   60/  100] | d_loss: 1.4466 | g_loss: 1.1410\n",
      "Epoch [   61/  100] | d_loss: 1.3834 | g_loss: 1.1620\n",
      "Epoch [   61/  100] | d_loss: 1.2564 | g_loss: 1.0205\n",
      "Epoch [   61/  100] | d_loss: 1.2671 | g_loss: 1.4621\n",
      "Epoch [   62/  100] | d_loss: 1.2657 | g_loss: 1.3605\n",
      "Epoch [   62/  100] | d_loss: 1.3157 | g_loss: 1.0699\n",
      "Epoch [   62/  100] | d_loss: 1.2795 | g_loss: 0.9638\n",
      "Epoch [   63/  100] | d_loss: 1.2640 | g_loss: 1.1983\n",
      "Epoch [   63/  100] | d_loss: 1.1747 | g_loss: 1.2727\n",
      "Epoch [   63/  100] | d_loss: 1.4063 | g_loss: 1.0792\n",
      "Epoch [   64/  100] | d_loss: 1.2318 | g_loss: 1.5191\n",
      "Epoch [   64/  100] | d_loss: 1.2912 | g_loss: 1.0006\n",
      "Epoch [   64/  100] | d_loss: 1.3002 | g_loss: 1.2034\n",
      "Epoch [   65/  100] | d_loss: 1.2164 | g_loss: 1.1964\n",
      "Epoch [   65/  100] | d_loss: 1.3061 | g_loss: 0.9161\n",
      "Epoch [   65/  100] | d_loss: 1.3905 | g_loss: 1.1369\n",
      "Epoch [   66/  100] | d_loss: 1.3529 | g_loss: 0.9082\n",
      "Epoch [   66/  100] | d_loss: 1.2575 | g_loss: 0.9642\n",
      "Epoch [   66/  100] | d_loss: 1.2369 | g_loss: 0.9919\n",
      "Epoch [   67/  100] | d_loss: 1.3828 | g_loss: 1.1516\n",
      "Epoch [   67/  100] | d_loss: 1.2347 | g_loss: 1.0583\n",
      "Epoch [   67/  100] | d_loss: 1.4098 | g_loss: 1.0726\n",
      "Epoch [   68/  100] | d_loss: 1.2760 | g_loss: 0.8612\n",
      "Epoch [   68/  100] | d_loss: 1.1914 | g_loss: 0.9176\n",
      "Epoch [   68/  100] | d_loss: 1.3311 | g_loss: 0.8099\n",
      "Epoch [   69/  100] | d_loss: 1.3161 | g_loss: 0.9574\n",
      "Epoch [   69/  100] | d_loss: 1.1968 | g_loss: 1.1174\n",
      "Epoch [   69/  100] | d_loss: 1.3512 | g_loss: 1.0478\n",
      "Epoch [   70/  100] | d_loss: 1.3575 | g_loss: 1.0074\n",
      "Epoch [   70/  100] | d_loss: 1.2826 | g_loss: 0.9006\n",
      "Epoch [   70/  100] | d_loss: 1.4267 | g_loss: 1.2527\n",
      "Epoch [   71/  100] | d_loss: 1.2680 | g_loss: 0.8168\n",
      "Epoch [   71/  100] | d_loss: 1.2073 | g_loss: 1.3983\n",
      "Epoch [   71/  100] | d_loss: 1.2263 | g_loss: 1.1441\n",
      "Epoch [   72/  100] | d_loss: 1.4201 | g_loss: 1.4246\n",
      "Epoch [   72/  100] | d_loss: 1.2457 | g_loss: 1.0107\n",
      "Epoch [   72/  100] | d_loss: 1.3379 | g_loss: 1.0116\n",
      "Epoch [   73/  100] | d_loss: 1.2789 | g_loss: 1.0799\n",
      "Epoch [   73/  100] | d_loss: 1.2234 | g_loss: 1.0906\n",
      "Epoch [   73/  100] | d_loss: 1.4268 | g_loss: 0.9915\n",
      "Epoch [   74/  100] | d_loss: 1.3571 | g_loss: 0.8585\n",
      "Epoch [   74/  100] | d_loss: 1.3017 | g_loss: 0.7839\n",
      "Epoch [   74/  100] | d_loss: 1.3608 | g_loss: 0.8863\n",
      "Epoch [   75/  100] | d_loss: 1.2334 | g_loss: 1.2387\n",
      "Epoch [   75/  100] | d_loss: 1.2324 | g_loss: 0.9939\n",
      "Epoch [   75/  100] | d_loss: 1.2723 | g_loss: 1.0051\n",
      "Epoch [   76/  100] | d_loss: 1.2741 | g_loss: 1.5422\n",
      "Epoch [   76/  100] | d_loss: 1.2841 | g_loss: 1.0267\n",
      "Epoch [   76/  100] | d_loss: 1.3620 | g_loss: 1.1658\n",
      "Epoch [   77/  100] | d_loss: 1.2690 | g_loss: 0.9898\n",
      "Epoch [   77/  100] | d_loss: 1.2064 | g_loss: 0.9903\n",
      "Epoch [   77/  100] | d_loss: 1.3187 | g_loss: 0.7957\n",
      "Epoch [   78/  100] | d_loss: 1.2433 | g_loss: 0.8191\n",
      "Epoch [   78/  100] | d_loss: 1.2247 | g_loss: 1.6556\n",
      "Epoch [   78/  100] | d_loss: 1.3721 | g_loss: 0.8590\n",
      "Epoch [   79/  100] | d_loss: 1.3568 | g_loss: 1.0562\n",
      "Epoch [   79/  100] | d_loss: 1.2664 | g_loss: 0.9400\n",
      "Epoch [   79/  100] | d_loss: 1.3756 | g_loss: 0.9858\n",
      "Epoch [   80/  100] | d_loss: 1.2278 | g_loss: 1.0734\n",
      "Epoch [   80/  100] | d_loss: 1.2214 | g_loss: 0.9688\n",
      "Epoch [   80/  100] | d_loss: 1.3556 | g_loss: 0.9777\n",
      "Epoch [   81/  100] | d_loss: 1.3776 | g_loss: 1.6136\n",
      "Epoch [   81/  100] | d_loss: 1.2332 | g_loss: 1.1763\n",
      "Epoch [   81/  100] | d_loss: 1.2703 | g_loss: 0.9771\n",
      "Epoch [   82/  100] | d_loss: 1.1900 | g_loss: 1.2950\n",
      "Epoch [   82/  100] | d_loss: 1.2657 | g_loss: 0.8856\n",
      "Epoch [   82/  100] | d_loss: 1.2558 | g_loss: 1.0595\n",
      "Epoch [   83/  100] | d_loss: 1.3276 | g_loss: 1.0696\n",
      "Epoch [   83/  100] | d_loss: 1.2929 | g_loss: 0.9053\n",
      "Epoch [   83/  100] | d_loss: 1.3723 | g_loss: 1.0082\n",
      "Epoch [   84/  100] | d_loss: 1.2712 | g_loss: 1.0578\n",
      "Epoch [   84/  100] | d_loss: 1.1380 | g_loss: 1.2404\n",
      "Epoch [   84/  100] | d_loss: 1.3545 | g_loss: 0.9613\n",
      "Epoch [   85/  100] | d_loss: 1.2976 | g_loss: 1.1357\n",
      "Epoch [   85/  100] | d_loss: 1.1908 | g_loss: 0.9871\n",
      "Epoch [   85/  100] | d_loss: 1.3023 | g_loss: 1.0176\n",
      "Epoch [   86/  100] | d_loss: 1.2626 | g_loss: 0.9404\n",
      "Epoch [   86/  100] | d_loss: 1.1780 | g_loss: 1.0953\n",
      "Epoch [   86/  100] | d_loss: 1.4258 | g_loss: 1.0183\n",
      "Epoch [   87/  100] | d_loss: 1.2597 | g_loss: 1.1612\n",
      "Epoch [   87/  100] | d_loss: 1.2338 | g_loss: 1.0529\n",
      "Epoch [   87/  100] | d_loss: 1.4140 | g_loss: 0.9336\n",
      "Epoch [   88/  100] | d_loss: 1.3417 | g_loss: 0.9718\n",
      "Epoch [   88/  100] | d_loss: 1.2630 | g_loss: 0.8708\n",
      "Epoch [   88/  100] | d_loss: 1.4232 | g_loss: 1.0803\n",
      "Epoch [   89/  100] | d_loss: 1.2707 | g_loss: 0.9912\n",
      "Epoch [   89/  100] | d_loss: 1.2987 | g_loss: 1.0548\n",
      "Epoch [   89/  100] | d_loss: 1.2818 | g_loss: 1.1649\n",
      "Epoch [   90/  100] | d_loss: 1.2650 | g_loss: 1.0670\n",
      "Epoch [   90/  100] | d_loss: 1.2400 | g_loss: 0.8910\n",
      "Epoch [   90/  100] | d_loss: 1.3658 | g_loss: 0.9379\n",
      "Epoch [   91/  100] | d_loss: 1.3401 | g_loss: 1.2334\n",
      "Epoch [   91/  100] | d_loss: 1.2384 | g_loss: 0.9346\n",
      "Epoch [   91/  100] | d_loss: 1.3589 | g_loss: 0.9380\n",
      "Epoch [   92/  100] | d_loss: 1.2531 | g_loss: 1.0216\n",
      "Epoch [   92/  100] | d_loss: 1.2256 | g_loss: 0.9969\n",
      "Epoch [   92/  100] | d_loss: 1.4196 | g_loss: 1.0069\n",
      "Epoch [   93/  100] | d_loss: 1.2186 | g_loss: 1.0236\n",
      "Epoch [   93/  100] | d_loss: 1.2574 | g_loss: 1.2794\n",
      "Epoch [   93/  100] | d_loss: 1.3165 | g_loss: 1.0361\n",
      "Epoch [   94/  100] | d_loss: 1.4147 | g_loss: 0.9566\n",
      "Epoch [   94/  100] | d_loss: 1.2238 | g_loss: 0.9465\n",
      "Epoch [   94/  100] | d_loss: 1.3566 | g_loss: 0.9257\n",
      "Epoch [   95/  100] | d_loss: 1.2952 | g_loss: 1.3644\n",
      "Epoch [   95/  100] | d_loss: 1.2073 | g_loss: 1.2472\n",
      "Epoch [   95/  100] | d_loss: 1.3648 | g_loss: 0.8994\n",
      "Epoch [   96/  100] | d_loss: 1.3035 | g_loss: 0.9417\n",
      "Epoch [   96/  100] | d_loss: 1.2257 | g_loss: 0.9347\n",
      "Epoch [   96/  100] | d_loss: 1.3556 | g_loss: 0.9412\n",
      "Epoch [   97/  100] | d_loss: 1.2580 | g_loss: 1.1563\n",
      "Epoch [   97/  100] | d_loss: 1.2724 | g_loss: 0.9445\n",
      "Epoch [   97/  100] | d_loss: 1.3489 | g_loss: 1.0619\n",
      "Epoch [   98/  100] | d_loss: 1.4178 | g_loss: 0.9595\n",
      "Epoch [   98/  100] | d_loss: 1.1868 | g_loss: 1.2503\n",
      "Epoch [   98/  100] | d_loss: 1.2377 | g_loss: 1.1736\n",
      "Epoch [   99/  100] | d_loss: 1.2707 | g_loss: 1.0229\n",
      "Epoch [   99/  100] | d_loss: 1.2631 | g_loss: 1.1267\n",
      "Epoch [   99/  100] | d_loss: 1.2116 | g_loss: 1.0693\n",
      "Epoch [  100/  100] | d_loss: 1.3068 | g_loss: 0.9615\n",
      "Epoch [  100/  100] | d_loss: 1.2324 | g_loss: 1.1542\n",
      "Epoch [  100/  100] | d_loss: 1.3075 | g_loss: 1.1965\n"
     ]
    }
   ],
   "source": [
    "import pickle as pkl\n",
    "\n",
    "# training hyperparams\n",
    "num_epochs = 100\n",
    "\n",
    "# keep track of loss and generated, \"fake\" samples\n",
    "samples = []\n",
    "losses = []\n",
    "\n",
    "print_every = 400\n",
    "\n",
    "# Get some fixed data for sampling. These are images that are held\n",
    "# constant throughout training, and allow us to inspect the model's performance\n",
    "sample_size=16\n",
    "fixed_z = np.random.uniform(-1, 1, size=(sample_size, z_size))\n",
    "fixed_z = torch.from_numpy(fixed_z).float()\n",
    "\n",
    "# train the network\n",
    "D.train()\n",
    "G.train()\n",
    "for epoch in range(num_epochs):\n",
    "    \n",
    "    for batch_i, (real_images, _) in enumerate(train_loader):\n",
    "                \n",
    "        batch_size = real_images.size(0)\n",
    "        \n",
    "        ## Important rescaling step ## \n",
    "        real_images = real_images*2 - 1  # rescale input images from [0,1) to [-1, 1)\n",
    "        \n",
    "        # ============================================\n",
    "        #            TRAIN THE DISCRIMINATOR\n",
    "        # ============================================\n",
    "        \n",
    "        d_optimizer.zero_grad()\n",
    "        \n",
    "        # 1. Train with real images\n",
    "\n",
    "        # Compute the discriminator losses on real images \n",
    "        # smooth the real labels\n",
    "        D_real = D(real_images)\n",
    "        d_real_loss = real_loss(D_real, smooth=True)\n",
    "        \n",
    "        # 2. Train with fake images\n",
    "        \n",
    "        # Generate fake images\n",
    "        z = np.random.uniform(-1, 1, size=(batch_size, z_size))\n",
    "        z = torch.from_numpy(z).float()\n",
    "        fake_images = G(z)\n",
    "        \n",
    "        # Compute the discriminator losses on fake images        \n",
    "        D_fake = D(fake_images)\n",
    "        d_fake_loss = fake_loss(D_fake)\n",
    "        \n",
    "        # add up loss and perform backprop\n",
    "        d_loss = d_real_loss + d_fake_loss\n",
    "        d_loss.backward()\n",
    "        d_optimizer.step()\n",
    "        \n",
    "        \n",
    "        # =========================================\n",
    "        #            TRAIN THE GENERATOR\n",
    "        # =========================================\n",
    "        g_optimizer.zero_grad()\n",
    "        \n",
    "        # 1. Train with fake images and flipped labels\n",
    "        \n",
    "        # Generate fake images\n",
    "        z = np.random.uniform(-1, 1, size=(batch_size, z_size))\n",
    "        z = torch.from_numpy(z).float()\n",
    "        fake_images = G(z)\n",
    "        \n",
    "        # Compute the discriminator losses on fake images \n",
    "        # using flipped labels!\n",
    "        D_fake = D(fake_images)\n",
    "        g_loss = real_loss(D_fake) # use real loss to flip labels\n",
    "        \n",
    "        # perform backprop\n",
    "        g_loss.backward()\n",
    "        g_optimizer.step()\n",
    "\n",
    "        # Print some loss stats\n",
    "        if batch_i % print_every == 0:\n",
    "            # print discriminator and generator loss\n",
    "            print('Epoch [{:5d}/{:5d}] | d_loss: {:6.4f} | g_loss: {:6.4f}'.format(\n",
    "                    epoch+1, num_epochs, d_loss.item(), g_loss.item()))\n",
    "\n",
    "    \n",
    "    ## AFTER EACH EPOCH##\n",
    "    # append discriminator loss and generator loss\n",
    "    losses.append((d_loss.item(), g_loss.item()))\n",
    "    \n",
    "    # generate and save sample, fake images\n",
    "    G.eval() # eval mode for generating samples\n",
    "    samples_z = G(fixed_z)\n",
    "    samples.append(samples_z)\n",
    "    G.train() # back to train mode\n",
    "\n",
    "\n",
    "# Save training generator samples\n",
    "with open('train_samples.pkl', 'wb') as f:\n",
    "    pkl.dump(samples, f)"
   ]
  },
  {
   "cell_type": "markdown",
   "metadata": {},
   "source": [
    "## Training loss\n",
    "\n",
    "Here we'll plot the training losses for the generator and discriminator, recorded after each epoch."
   ]
  },
  {
   "cell_type": "code",
   "execution_count": 11,
   "metadata": {},
   "outputs": [
    {
     "data": {
      "text/plain": [
       "<matplotlib.legend.Legend at 0x1a7316049e8>"
      ]
     },
     "execution_count": 11,
     "metadata": {},
     "output_type": "execute_result"
    },
    {
     "data": {
      "image/png": "[encoded data removed]",
      "text/plain": [
       "<Figure size 432x288 with 1 Axes>"
      ]
     },
     "metadata": {
      "needs_background": "light"
     },
     "output_type": "display_data"
    }
   ],
   "source": [
    "fig, ax = plt.subplots()\n",
    "losses = np.array(losses)\n",
    "plt.plot(losses.T[0], label='Discriminator')\n",
    "plt.plot(losses.T[1], label='Generator')\n",
    "plt.title(\"Training Losses\")\n",
    "plt.legend()"
   ]
  },
  {
   "cell_type": "markdown",
   "metadata": {},
   "source": [
    "## Generator samples from training\n",
    "\n",
    "Here we can view samples of images from the generator. First we'll look at the images we saved during training."
   ]
  },
  {
   "cell_type": "code",
   "execution_count": 12,
   "metadata": {},
   "outputs": [],
   "source": [
    "# helper function for viewing a list of passed in sample images\n",
    "def view_samples(epoch, samples):\n",
    "    fig, axes = plt.subplots(figsize=(7,7), nrows=4, ncols=4, sharey=True, sharex=True)\n",
    "    for ax, img in zip(axes.flatten(), samples[epoch]):\n",
    "        img = img.detach()\n",
    "        ax.xaxis.set_visible(False)\n",
    "        ax.yaxis.set_visible(False)\n",
    "        im = ax.imshow(img.reshape((28,28)), cmap='Greys_r')"
   ]
  },
  {
   "cell_type": "code",
   "execution_count": 13,
   "metadata": {},
   "outputs": [],
   "source": [
    "# Load samples from generator, taken while training\n",
    "with open('train_samples.pkl', 'rb') as f:\n",
    "    samples = pkl.load(f)"
   ]
  },
  {
   "cell_type": "markdown",
   "metadata": {},
   "source": [
    "These are samples from the final training epoch. You can see the generator is able to reproduce numbers like 1, 7, 3, 2. Since this is just a sample, it isn't representative of the full range of images this generator can make."
   ]
  },
  {
   "cell_type": "code",
   "execution_count": 14,
   "metadata": {},
   "outputs": [
    {
     "data": {
      "image/png": "[encoded data removed]",
      "text/plain": [
       "<Figure size 504x504 with 16 Axes>"
      ]
     },
     "metadata": {
      "needs_background": "light"
     },
     "output_type": "display_data"
    }
   ],
   "source": [
    "# -1 indicates final epoch's samples (the last in the list)\n",
    "view_samples(-1, samples)"
   ]
  },
  {
   "cell_type": "markdown",
   "metadata": {},
   "source": [
    "Below I'm showing the generated images as the network was training, every 10 epochs."
   ]
  },
  {
   "cell_type": "code",
   "execution_count": 15,
   "metadata": {},
   "outputs": [
    {
     "data": {
      "image/png": "[encoded data removed]",
      "text/plain": [
       "<Figure size 504x864 with 60 Axes>"
      ]
     },
     "metadata": {
      "needs_background": "light"
     },
     "output_type": "display_data"
    }
   ],
   "source": [
    "rows = 10 # split epochs into 10, so 100/10 = every 10 epochs\n",
    "cols = 6\n",
    "fig, axes = plt.subplots(figsize=(7,12), nrows=rows, ncols=cols, sharex=True, sharey=True)\n",
    "\n",
    "for sample, ax_row in zip(samples[::int(len(samples)/rows)], axes):\n",
    "    for img, ax in zip(sample[::int(len(sample)/cols)], ax_row):\n",
    "        img = img.detach()\n",
    "        ax.imshow(img.reshape((28,28)), cmap='Greys_r')\n",
    "        ax.xaxis.set_visible(False)\n",
    "        ax.yaxis.set_visible(False)"
   ]
  },
  {
   "cell_type": "markdown",
   "metadata": {},
   "source": [
    "It starts out as all noise. Then it learns to make only the center white and the rest black. You can start to see some number like structures appear out of the noise like 1s and 9s."
   ]
  },
  {
   "cell_type": "markdown",
   "metadata": {},
   "source": [
    "## Sampling from the generator\n",
    "\n",
    "We can also get completely new images from the generator by using the checkpoint we saved after training. **We just need to pass in a new latent vector $z$ and we'll get new samples**!"
   ]
  },
  {
   "cell_type": "code",
   "execution_count": 16,
   "metadata": {},
   "outputs": [
    {
     "data": {
      "image/png": "[encoded data removed]",
      "text/plain": [
       "<Figure size 504x504 with 16 Axes>"
      ]
     },
     "metadata": {
      "needs_background": "light"
     },
     "output_type": "display_data"
    }
   ],
   "source": [
    "# randomly generated, new latent vectors\n",
    "sample_size=16\n",
    "rand_z = np.random.uniform(-1, 1, size=(sample_size, z_size))\n",
    "rand_z = torch.from_numpy(rand_z).float()\n",
    "\n",
    "G.eval() # eval mode\n",
    "# generated samples\n",
    "rand_images = G(rand_z)\n",
    "\n",
    "# 0 indicates the first set of samples in the passed in list\n",
    "# and we only have one batch of samples, here\n",
    "view_samples(0, [rand_images])"
   ]
  },
  {
   "cell_type": "code",
   "execution_count": null,
   "metadata": {},
   "outputs": [],
   "source": []
  }
 ],
 "metadata": {
  "kernelspec": {
   "display_name": "Python 3",
   "language": "python",
   "name": "python3"
  },
  "language_info": {
   "codemirror_mode": {
    "name": "ipython",
    "version": 3
   },
   "file_extension": ".py",
   "mimetype": "text/x-python",
   "name": "python",
   "nbconvert_exporter": "python",
   "pygments_lexer": "ipython3",
   "version": "3.6.10"
  }
 },
 "nbformat": 4,
 "nbformat_minor": 2
}
